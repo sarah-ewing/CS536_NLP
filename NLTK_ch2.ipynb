{
 "cells": [
  {
   "cell_type": "code",
   "execution_count": 1,
   "metadata": {},
   "outputs": [],
   "source": [
    "import nltk"
   ]
  },
  {
   "cell_type": "code",
   "execution_count": 2,
   "metadata": {},
   "outputs": [
    {
     "data": {
      "text/plain": [
       "['austen-emma.txt',\n",
       " 'austen-persuasion.txt',\n",
       " 'austen-sense.txt',\n",
       " 'bible-kjv.txt',\n",
       " 'blake-poems.txt',\n",
       " 'bryant-stories.txt',\n",
       " 'burgess-busterbrown.txt',\n",
       " 'carroll-alice.txt',\n",
       " 'chesterton-ball.txt',\n",
       " 'chesterton-brown.txt',\n",
       " 'chesterton-thursday.txt',\n",
       " 'edgeworth-parents.txt',\n",
       " 'melville-moby_dick.txt',\n",
       " 'milton-paradise.txt',\n",
       " 'shakespeare-caesar.txt',\n",
       " 'shakespeare-hamlet.txt',\n",
       " 'shakespeare-macbeth.txt',\n",
       " 'whitman-leaves.txt']"
      ]
     },
     "execution_count": 2,
     "metadata": {},
     "output_type": "execute_result"
    }
   ],
   "source": [
    "nltk.corpus.gutenberg.fileids()"
   ]
  },
  {
   "cell_type": "code",
   "execution_count": 3,
   "metadata": {},
   "outputs": [
    {
     "name": "stdout",
     "output_type": "stream",
     "text": [
      "['[', 'Emma', 'by', 'Jane', 'Austen', '1816', ']', ...] \n",
      " 192427\n"
     ]
    }
   ],
   "source": [
    "emma = nltk.corpus.gutenberg.words('austen-emma.txt')\n",
    "print(emma,\"\\n\", len(emma))"
   ]
  },
  {
   "cell_type": "code",
   "execution_count": 4,
   "metadata": {},
   "outputs": [
    {
     "name": "stdout",
     "output_type": "stream",
     "text": [
      "avg letter per word: 5 avg sent length: 25 avg word repeats: 26 austen-emma.txt \n",
      "\n",
      "avg letter per word: 5 avg sent length: 26 avg word repeats: 17 austen-persuasion.txt \n",
      "\n",
      "avg letter per word: 5 avg sent length: 28 avg word repeats: 22 austen-sense.txt \n",
      "\n",
      "avg letter per word: 4 avg sent length: 34 avg word repeats: 79 bible-kjv.txt \n",
      "\n",
      "avg letter per word: 5 avg sent length: 19 avg word repeats: 5 blake-poems.txt \n",
      "\n",
      "avg letter per word: 4 avg sent length: 19 avg word repeats: 14 bryant-stories.txt \n",
      "\n",
      "avg letter per word: 4 avg sent length: 18 avg word repeats: 12 burgess-busterbrown.txt \n",
      "\n",
      "avg letter per word: 4 avg sent length: 20 avg word repeats: 13 carroll-alice.txt \n",
      "\n",
      "avg letter per word: 5 avg sent length: 20 avg word repeats: 12 chesterton-ball.txt \n",
      "\n",
      "avg letter per word: 5 avg sent length: 23 avg word repeats: 11 chesterton-brown.txt \n",
      "\n",
      "avg letter per word: 5 avg sent length: 18 avg word repeats: 11 chesterton-thursday.txt \n",
      "\n",
      "avg letter per word: 4 avg sent length: 21 avg word repeats: 25 edgeworth-parents.txt \n",
      "\n",
      "avg letter per word: 5 avg sent length: 26 avg word repeats: 15 melville-moby_dick.txt \n",
      "\n",
      "avg letter per word: 5 avg sent length: 52 avg word repeats: 11 milton-paradise.txt \n",
      "\n",
      "avg letter per word: 4 avg sent length: 12 avg word repeats: 9 shakespeare-caesar.txt \n",
      "\n",
      "avg letter per word: 4 avg sent length: 12 avg word repeats: 8 shakespeare-hamlet.txt \n",
      "\n",
      "avg letter per word: 4 avg sent length: 12 avg word repeats: 7 shakespeare-macbeth.txt \n",
      "\n",
      "avg letter per word: 5 avg sent length: 36 avg word repeats: 12 whitman-leaves.txt \n",
      "\n"
     ]
    }
   ],
   "source": [
    "for fileid in nltk.corpus.gutenberg.fileids():\n",
    "    #num_chars variable counts space characters, so avg word len is -1\n",
    "    num_chars = len(nltk.corpus.gutenberg.raw(fileid))\n",
    "    num_words = len(nltk.corpus.gutenberg.words(fileid))\n",
    "    num_sents = len(nltk.corpus.gutenberg.sents(fileid))\n",
    "    ## lexical diversity score\n",
    "    num_vocab = len(set(w.lower() for w in nltk.corpus.gutenberg.words(fileid)))\n",
    "    \n",
    "    print(\"avg letter per word:\", round(num_chars/num_words), \n",
    "          \"avg sent length:\",round(num_words/num_sents), \n",
    "          \"avg word repeats:\",round(num_words/num_vocab), \n",
    "          fileid,\"\\n\")"
   ]
  },
  {
   "cell_type": "code",
   "execution_count": null,
   "metadata": {},
   "outputs": [],
   "source": []
  }
 ],
 "metadata": {
  "kernelspec": {
   "display_name": "Python 3",
   "language": "python",
   "name": "python3"
  },
  "language_info": {
   "codemirror_mode": {
    "name": "ipython",
    "version": 3
   },
   "file_extension": ".py",
   "mimetype": "text/x-python",
   "name": "python",
   "nbconvert_exporter": "python",
   "pygments_lexer": "ipython3",
   "version": "3.8.7"
  }
 },
 "nbformat": 4,
 "nbformat_minor": 2
}
