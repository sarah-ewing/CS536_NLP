{
 "cells": [
  {
   "cell_type": "code",
   "execution_count": 1,
   "metadata": {},
   "outputs": [],
   "source": [
    "import pandas as pd\n",
    "import numpy as np\n",
    "from collections import Counter as ctr"
   ]
  },
  {
   "cell_type": "code",
   "execution_count": 2,
   "metadata": {},
   "outputs": [
    {
     "name": "stdout",
     "output_type": "stream",
     "text": [
      "\u001b[34mA1\u001b[m\u001b[m                               data.tar.gz\r\n",
      "A1.tar.xz                        naive-bayes-2021.ipynb\r\n",
      "Assignment1_Sarah_Ewing.ipynb    pip_install.ipynb\r\n",
      "NLTK_ch1.ipynb                   probability_theory-discrete.html\r\n",
      "NLTK_ch2.ipynb                   python_fun.ipynb\r\n",
      "catsM.csv                        readme.txt\r\n",
      "\u001b[34mdata\u001b[m\u001b[m                             spam.csv\r\n"
     ]
    }
   ],
   "source": [
    "!ls"
   ]
  },
  {
   "cell_type": "code",
   "execution_count": 3,
   "metadata": {},
   "outputs": [
    {
     "data": {
      "text/html": [
       "<div>\n",
       "<style scoped>\n",
       "    .dataframe tbody tr th:only-of-type {\n",
       "        vertical-align: middle;\n",
       "    }\n",
       "\n",
       "    .dataframe tbody tr th {\n",
       "        vertical-align: top;\n",
       "    }\n",
       "\n",
       "    .dataframe thead th {\n",
       "        text-align: right;\n",
       "    }\n",
       "</style>\n",
       "<table border=\"1\" class=\"dataframe\">\n",
       "  <thead>\n",
       "    <tr style=\"text-align: right;\">\n",
       "      <th></th>\n",
       "      <th>type</th>\n",
       "      <th>text</th>\n",
       "      <th>c3</th>\n",
       "      <th>c4</th>\n",
       "      <th>c5</th>\n",
       "    </tr>\n",
       "  </thead>\n",
       "  <tbody>\n",
       "    <tr>\n",
       "      <th>0</th>\n",
       "      <td>ham</td>\n",
       "      <td>Go until jurong point, crazy.. Available only ...</td>\n",
       "      <td>NaN</td>\n",
       "      <td>NaN</td>\n",
       "      <td>NaN</td>\n",
       "    </tr>\n",
       "    <tr>\n",
       "      <th>1</th>\n",
       "      <td>ham</td>\n",
       "      <td>Ok lar... Joking wif u oni...</td>\n",
       "      <td>NaN</td>\n",
       "      <td>NaN</td>\n",
       "      <td>NaN</td>\n",
       "    </tr>\n",
       "    <tr>\n",
       "      <th>2</th>\n",
       "      <td>spam</td>\n",
       "      <td>Free entry in 2 a wkly comp to win FA Cup fina...</td>\n",
       "      <td>NaN</td>\n",
       "      <td>NaN</td>\n",
       "      <td>NaN</td>\n",
       "    </tr>\n",
       "    <tr>\n",
       "      <th>3</th>\n",
       "      <td>ham</td>\n",
       "      <td>U dun say so early hor... U c already then say...</td>\n",
       "      <td>NaN</td>\n",
       "      <td>NaN</td>\n",
       "      <td>NaN</td>\n",
       "    </tr>\n",
       "    <tr>\n",
       "      <th>4</th>\n",
       "      <td>ham</td>\n",
       "      <td>Nah I don't think he goes to usf, he lives aro...</td>\n",
       "      <td>NaN</td>\n",
       "      <td>NaN</td>\n",
       "      <td>NaN</td>\n",
       "    </tr>\n",
       "  </tbody>\n",
       "</table>\n",
       "</div>"
      ],
      "text/plain": [
       "   type                                               text   c3   c4   c5\n",
       "0   ham  Go until jurong point, crazy.. Available only ...  NaN  NaN  NaN\n",
       "1   ham                      Ok lar... Joking wif u oni...  NaN  NaN  NaN\n",
       "2  spam  Free entry in 2 a wkly comp to win FA Cup fina...  NaN  NaN  NaN\n",
       "3   ham  U dun say so early hor... U c already then say...  NaN  NaN  NaN\n",
       "4   ham  Nah I don't think he goes to usf, he lives aro...  NaN  NaN  NaN"
      ]
     },
     "execution_count": 3,
     "metadata": {},
     "output_type": "execute_result"
    }
   ],
   "source": [
    "data = pd.read_csv('spam.csv', \n",
    "                 skiprows=1, \n",
    "                 names = ['type','text','c3','c4','c5'], \n",
    "                 delimiter = ',',\n",
    "                 encoding = 'ISO-8859-1')\n",
    "data.head()\n",
    "## text is an entire email\n",
    "## type is \"spam\" (bad) & \"ham\" (good)\n",
    "# Shouldent we use a SVM?"
   ]
  },
  {
   "cell_type": "code",
   "execution_count": 4,
   "metadata": {},
   "outputs": [],
   "source": [
    "data['clean'] = data.text.apply(lambda x: x.lower().split()) \n",
    "## normalize it to lowercase and split on white space (to do tab put \"\\t\")"
   ]
  },
  {
   "cell_type": "code",
   "execution_count": 5,
   "metadata": {},
   "outputs": [],
   "source": [
    "data.drop(['c3', 'c4', 'c5'], axis = 1, inplace = True)\n",
    "## axis is 0 is row, 1 is column"
   ]
  },
  {
   "cell_type": "code",
   "execution_count": 6,
   "metadata": {},
   "outputs": [
    {
     "data": {
      "text/html": [
       "<div>\n",
       "<style scoped>\n",
       "    .dataframe tbody tr th:only-of-type {\n",
       "        vertical-align: middle;\n",
       "    }\n",
       "\n",
       "    .dataframe tbody tr th {\n",
       "        vertical-align: top;\n",
       "    }\n",
       "\n",
       "    .dataframe thead th {\n",
       "        text-align: right;\n",
       "    }\n",
       "</style>\n",
       "<table border=\"1\" class=\"dataframe\">\n",
       "  <thead>\n",
       "    <tr style=\"text-align: right;\">\n",
       "      <th></th>\n",
       "      <th>type</th>\n",
       "      <th>text</th>\n",
       "      <th>clean</th>\n",
       "    </tr>\n",
       "  </thead>\n",
       "  <tbody>\n",
       "    <tr>\n",
       "      <th>0</th>\n",
       "      <td>ham</td>\n",
       "      <td>Go until jurong point, crazy.. Available only ...</td>\n",
       "      <td>[go, until, jurong, point,, crazy.., available...</td>\n",
       "    </tr>\n",
       "    <tr>\n",
       "      <th>1</th>\n",
       "      <td>ham</td>\n",
       "      <td>Ok lar... Joking wif u oni...</td>\n",
       "      <td>[ok, lar..., joking, wif, u, oni...]</td>\n",
       "    </tr>\n",
       "    <tr>\n",
       "      <th>2</th>\n",
       "      <td>spam</td>\n",
       "      <td>Free entry in 2 a wkly comp to win FA Cup fina...</td>\n",
       "      <td>[free, entry, in, 2, a, wkly, comp, to, win, f...</td>\n",
       "    </tr>\n",
       "    <tr>\n",
       "      <th>3</th>\n",
       "      <td>ham</td>\n",
       "      <td>U dun say so early hor... U c already then say...</td>\n",
       "      <td>[u, dun, say, so, early, hor..., u, c, already...</td>\n",
       "    </tr>\n",
       "    <tr>\n",
       "      <th>4</th>\n",
       "      <td>ham</td>\n",
       "      <td>Nah I don't think he goes to usf, he lives aro...</td>\n",
       "      <td>[nah, i, don't, think, he, goes, to, usf,, he,...</td>\n",
       "    </tr>\n",
       "  </tbody>\n",
       "</table>\n",
       "</div>"
      ],
      "text/plain": [
       "   type                                               text  \\\n",
       "0   ham  Go until jurong point, crazy.. Available only ...   \n",
       "1   ham                      Ok lar... Joking wif u oni...   \n",
       "2  spam  Free entry in 2 a wkly comp to win FA Cup fina...   \n",
       "3   ham  U dun say so early hor... U c already then say...   \n",
       "4   ham  Nah I don't think he goes to usf, he lives aro...   \n",
       "\n",
       "                                               clean  \n",
       "0  [go, until, jurong, point,, crazy.., available...  \n",
       "1               [ok, lar..., joking, wif, u, oni...]  \n",
       "2  [free, entry, in, 2, a, wkly, comp, to, win, f...  \n",
       "3  [u, dun, say, so, early, hor..., u, c, already...  \n",
       "4  [nah, i, don't, think, he, goes, to, usf,, he,...  "
      ]
     },
     "execution_count": 6,
     "metadata": {},
     "output_type": "execute_result"
    }
   ],
   "source": [
    "data.head()"
   ]
  },
  {
   "cell_type": "code",
   "execution_count": 7,
   "metadata": {},
   "outputs": [
    {
     "data": {
      "text/html": [
       "<div>\n",
       "<style scoped>\n",
       "    .dataframe tbody tr th:only-of-type {\n",
       "        vertical-align: middle;\n",
       "    }\n",
       "\n",
       "    .dataframe tbody tr th {\n",
       "        vertical-align: top;\n",
       "    }\n",
       "\n",
       "    .dataframe thead th {\n",
       "        text-align: right;\n",
       "    }\n",
       "</style>\n",
       "<table border=\"1\" class=\"dataframe\">\n",
       "  <thead>\n",
       "    <tr style=\"text-align: right;\">\n",
       "      <th></th>\n",
       "      <th>text</th>\n",
       "      <th>clean</th>\n",
       "    </tr>\n",
       "    <tr>\n",
       "      <th>type</th>\n",
       "      <th></th>\n",
       "      <th></th>\n",
       "    </tr>\n",
       "  </thead>\n",
       "  <tbody>\n",
       "    <tr>\n",
       "      <th>ham</th>\n",
       "      <td>4825</td>\n",
       "      <td>4825</td>\n",
       "    </tr>\n",
       "    <tr>\n",
       "      <th>spam</th>\n",
       "      <td>747</td>\n",
       "      <td>747</td>\n",
       "    </tr>\n",
       "  </tbody>\n",
       "</table>\n",
       "</div>"
      ],
      "text/plain": [
       "      text  clean\n",
       "type             \n",
       "ham   4825   4825\n",
       "spam   747    747"
      ]
     },
     "execution_count": 7,
     "metadata": {},
     "output_type": "execute_result"
    }
   ],
   "source": [
    "data.groupby('type').count()"
   ]
  },
  {
   "cell_type": "code",
   "execution_count": 8,
   "metadata": {},
   "outputs": [
    {
     "name": "stdout",
     "output_type": "stream",
     "text": [
      " ham (good): 0.8659368269921034 \n",
      " spam (bad): 0.13406317300789664\n"
     ]
    }
   ],
   "source": [
    "type_ctr = ctr(data.type)\n",
    "print(\" ham (good):\", type_ctr['ham']/len(data),\"\\n\",\n",
    "      \"spam (bad):\", type_ctr['spam']/len(data)\n",
    ")\n",
    "## dont we need to balance the data?"
   ]
  },
  {
   "cell_type": "code",
   "execution_count": 9,
   "metadata": {},
   "outputs": [
    {
     "data": {
      "text/plain": [
       "(0.8659368269921034, 0.13406317300789664)"
      ]
     },
     "execution_count": 9,
     "metadata": {},
     "output_type": "execute_result"
    }
   ],
   "source": [
    "## take note how to print two things from the same cell...\n",
    "type_ctr['ham']/len(data), type_ctr['spam']/len(data)"
   ]
  },
  {
   "cell_type": "code",
   "execution_count": 10,
   "metadata": {},
   "outputs": [],
   "source": [
    "test = data.sample(frac = 0.1)\n",
    "# train data is mutually exclusive from the test\n",
    "train = data[~data.index.isin(test.index)]"
   ]
  },
  {
   "cell_type": "code",
   "execution_count": 11,
   "metadata": {},
   "outputs": [
    {
     "data": {
      "text/plain": [
       "(      type                                               text  \\\n",
       " 2877  spam  Hey Boys. Want hot XXX pics sent direct 2 ur p...   \n",
       " 2915   ham    What time should I tell my friend to be around?   \n",
       " 4741   ham              Ya very nice. . .be ready on thursday   \n",
       " 514   spam  You are guaranteed the latest Nokia Phone, a 4...   \n",
       " 1292   ham  Da my birthdate in certificate is in april but...   \n",
       " \n",
       "                                                   clean  \n",
       " 2877  [hey, boys., want, hot, xxx, pics, sent, direc...  \n",
       " 2915  [what, time, should, i, tell, my, friend, to, ...  \n",
       " 4741     [ya, very, nice., ., .be, ready, on, thursday]  \n",
       " 514   [you, are, guaranteed, the, latest, nokia, pho...  \n",
       " 1292  [da, my, birthdate, in, certificate, is, in, a...  ,\n",
       " (557, 3),\n",
       "    type                                               text  \\\n",
       " 0   ham  Go until jurong point, crazy.. Available only ...   \n",
       " 2  spam  Free entry in 2 a wkly comp to win FA Cup fina...   \n",
       " 3   ham  U dun say so early hor... U c already then say...   \n",
       " 4   ham  Nah I don't think he goes to usf, he lives aro...   \n",
       " 5  spam  FreeMsg Hey there darling it's been 3 week's n...   \n",
       " \n",
       "                                                clean  \n",
       " 0  [go, until, jurong, point,, crazy.., available...  \n",
       " 2  [free, entry, in, 2, a, wkly, comp, to, win, f...  \n",
       " 3  [u, dun, say, so, early, hor..., u, c, already...  \n",
       " 4  [nah, i, don't, think, he, goes, to, usf,, he,...  \n",
       " 5  [freemsg, hey, there, darling, it's, been, 3, ...  ,\n",
       " (5015, 3))"
      ]
     },
     "execution_count": 11,
     "metadata": {},
     "output_type": "execute_result"
    }
   ],
   "source": [
    "test.head(),test.shape, train.head(), train.shape"
   ]
  },
  {
   "cell_type": "markdown",
   "metadata": {},
   "source": [
    "### Prior Probability"
   ]
  },
  {
   "cell_type": "code",
   "execution_count": 12,
   "metadata": {},
   "outputs": [],
   "source": [
    "ham_spam_ctr = ctr(train.type)\n",
    "\n",
    "def Pa(X=''): #probability of prior\n",
    "    return ham_spam_ctr[X] / len(train)"
   ]
  },
  {
   "cell_type": "code",
   "execution_count": 13,
   "metadata": {},
   "outputs": [
    {
     "data": {
      "text/plain": [
       "0.13359920239282153"
      ]
     },
     "execution_count": 13,
     "metadata": {},
     "output_type": "execute_result"
    }
   ],
   "source": [
    "Pa('spam')"
   ]
  },
  {
   "cell_type": "markdown",
   "metadata": {},
   "source": [
    "# Normalization"
   ]
  },
  {
   "cell_type": "code",
   "execution_count": 14,
   "metadata": {},
   "outputs": [],
   "source": [
    "words_ctr = ctr([word for row in train.clean for word in row])\n",
    "\n",
    "## P(B)\n",
    "def Pb(W=''):\n",
    "    if W not in words_ctr: return 10E-10 ## if a word is not in the corpus assign it a tiny value\n",
    "    return words_ctr[W] / sum(words_ctr.values())"
   ]
  },
  {
   "cell_type": "markdown",
   "metadata": {},
   "source": [
    "## Maximum likelihood P(B|A) "
   ]
  },
  {
   "cell_type": "code",
   "execution_count": 15,
   "metadata": {},
   "outputs": [],
   "source": [
    "words_ham_spam = {}\n",
    "\n",
    "for col_name in list(set(data.type)):\n",
    "    sub_df = train[train.type == col_name] ## masking the dataframe\n",
    "    words_ham_spam[col_name] = []\n",
    "    for row in sub_df.clean:\n",
    "        for word in row:\n",
    "            words_ham_spam[col_name].append(word) ## makes 1 long list of all the words and we can count them\n",
    "    words_ham_spam[col_name] = ctr(words_ham_spam[col_name])\n",
    "    \n",
    "def Pba(W='', X=''):\n",
    "    t = words_ham_spam[X]\n",
    "    if W not in t: return 10E-10\n",
    "    return t[W] / sum(t.values())"
   ]
  },
  {
   "cell_type": "code",
   "execution_count": 16,
   "metadata": {},
   "outputs": [
    {
     "data": {
      "text/plain": [
       "[('to', 623),\n",
       " ('a', 336),\n",
       " ('call', 302),\n",
       " ('your', 236),\n",
       " ('you', 222),\n",
       " ('for', 181),\n",
       " ('the', 180),\n",
       " ('or', 165),\n",
       " ('free', 161),\n",
       " ('2', 160)]"
      ]
     },
     "execution_count": 16,
     "metadata": {},
     "output_type": "execute_result"
    }
   ],
   "source": [
    "words_ham_spam['spam'].most_common(10)"
   ]
  },
  {
   "cell_type": "code",
   "execution_count": 17,
   "metadata": {},
   "outputs": [
    {
     "data": {
      "text/plain": [
       "[('i', 1981),\n",
       " ('you', 1507),\n",
       " ('to', 1374),\n",
       " ('the', 991),\n",
       " ('a', 924),\n",
       " ('u', 782),\n",
       " ('and', 755),\n",
       " ('in', 704),\n",
       " ('my', 689),\n",
       " ('is', 622)]"
      ]
     },
     "execution_count": 17,
     "metadata": {},
     "output_type": "execute_result"
    }
   ],
   "source": [
    "words_ham_spam['ham'].most_common(10)"
   ]
  },
  {
   "cell_type": "code",
   "execution_count": 18,
   "metadata": {},
   "outputs": [
    {
     "data": {
      "text/plain": [
       "0.016087662337662338"
      ]
     },
     "execution_count": 18,
     "metadata": {},
     "output_type": "execute_result"
    }
   ],
   "source": [
    "Pba(W='the', X='ham')"
   ]
  },
  {
   "cell_type": "code",
   "execution_count": 19,
   "metadata": {},
   "outputs": [],
   "source": [
    "def Pab(X='', W=''):\n",
    "    return Pba(W, X) * Pa(X) / Pb(W)"
   ]
  },
  {
   "cell_type": "code",
   "execution_count": 20,
   "metadata": {},
   "outputs": [
    {
     "data": {
      "text/plain": [
       "0.924252763394579"
      ]
     },
     "execution_count": 20,
     "metadata": {},
     "output_type": "execute_result"
    }
   ],
   "source": [
    "Pab(X='ham', W='the')"
   ]
  },
  {
   "cell_type": "code",
   "execution_count": 21,
   "metadata": {},
   "outputs": [],
   "source": [
    "def Ps(T, X=''):\n",
    "    return np.prod([Pab(X=X,W=word) for word in T])"
   ]
  },
  {
   "cell_type": "code",
   "execution_count": 22,
   "metadata": {},
   "outputs": [
    {
     "data": {
      "text/plain": [
       "(0.8127111764284565, 0.0006066885959318133)"
      ]
     },
     "execution_count": 22,
     "metadata": {},
     "output_type": "execute_result"
    }
   ],
   "source": [
    "Ps(T = ['the', 'day', 'ahoy'], X = 'ham'), Ps(T = ['the', 'day', 'ahoy'], X = 'spam')"
   ]
  },
  {
   "cell_type": "markdown",
   "metadata": {},
   "source": [
    "# Evaluate"
   ]
  },
  {
   "cell_type": "code",
   "execution_count": 23,
   "metadata": {},
   "outputs": [],
   "source": [
    "test['ham'] = test.clean.apply(lambda x: Ps(x, 'ham'))\n",
    "test['spam'] = test.clean.apply(lambda x: Ps(x, 'spam'))"
   ]
  },
  {
   "cell_type": "code",
   "execution_count": 24,
   "metadata": {},
   "outputs": [
    {
     "data": {
      "text/html": [
       "<div>\n",
       "<style scoped>\n",
       "    .dataframe tbody tr th:only-of-type {\n",
       "        vertical-align: middle;\n",
       "    }\n",
       "\n",
       "    .dataframe tbody tr th {\n",
       "        vertical-align: top;\n",
       "    }\n",
       "\n",
       "    .dataframe thead th {\n",
       "        text-align: right;\n",
       "    }\n",
       "</style>\n",
       "<table border=\"1\" class=\"dataframe\">\n",
       "  <thead>\n",
       "    <tr style=\"text-align: right;\">\n",
       "      <th></th>\n",
       "      <th>type</th>\n",
       "      <th>text</th>\n",
       "      <th>clean</th>\n",
       "      <th>ham</th>\n",
       "      <th>spam</th>\n",
       "    </tr>\n",
       "  </thead>\n",
       "  <tbody>\n",
       "    <tr>\n",
       "      <th>2877</th>\n",
       "      <td>spam</td>\n",
       "      <td>Hey Boys. Want hot XXX pics sent direct 2 ur p...</td>\n",
       "      <td>[hey, boys., want, hot, xxx, pics, sent, direc...</td>\n",
       "      <td>1.917566e-20</td>\n",
       "      <td>2.428565e-30</td>\n",
       "    </tr>\n",
       "    <tr>\n",
       "      <th>2915</th>\n",
       "      <td>ham</td>\n",
       "      <td>What time should I tell my friend to be around?</td>\n",
       "      <td>[what, time, should, i, tell, my, friend, to, ...</td>\n",
       "      <td>8.018706e-01</td>\n",
       "      <td>2.844581e-18</td>\n",
       "    </tr>\n",
       "    <tr>\n",
       "      <th>4741</th>\n",
       "      <td>ham</td>\n",
       "      <td>Ya very nice. . .be ready on thursday</td>\n",
       "      <td>[ya, very, nice., ., .be, ready, on, thursday]</td>\n",
       "      <td>1.034931e+00</td>\n",
       "      <td>1.777306e-23</td>\n",
       "    </tr>\n",
       "    <tr>\n",
       "      <th>514</th>\n",
       "      <td>spam</td>\n",
       "      <td>You are guaranteed the latest Nokia Phone, a 4...</td>\n",
       "      <td>[you, are, guaranteed, the, latest, nokia, pho...</td>\n",
       "      <td>2.634663e-57</td>\n",
       "      <td>2.656855e-11</td>\n",
       "    </tr>\n",
       "    <tr>\n",
       "      <th>1292</th>\n",
       "      <td>ham</td>\n",
       "      <td>Da my birthdate in certificate is in april but...</td>\n",
       "      <td>[da, my, birthdate, in, certificate, is, in, a...</td>\n",
       "      <td>1.381174e-01</td>\n",
       "      <td>7.201132e-75</td>\n",
       "    </tr>\n",
       "    <tr>\n",
       "      <th>...</th>\n",
       "      <td>...</td>\n",
       "      <td>...</td>\n",
       "      <td>...</td>\n",
       "      <td>...</td>\n",
       "      <td>...</td>\n",
       "    </tr>\n",
       "    <tr>\n",
       "      <th>2399</th>\n",
       "      <td>ham</td>\n",
       "      <td>Oh... Kay... On sat right?</td>\n",
       "      <td>[oh..., kay..., on, sat, right?]</td>\n",
       "      <td>9.982615e-01</td>\n",
       "      <td>1.282663e-19</td>\n",
       "    </tr>\n",
       "    <tr>\n",
       "      <th>4206</th>\n",
       "      <td>ham</td>\n",
       "      <td>Lets use it next week, princess :)</td>\n",
       "      <td>[lets, use, it, next, week,, princess, :)]</td>\n",
       "      <td>6.101299e-01</td>\n",
       "      <td>1.978136e-17</td>\n",
       "    </tr>\n",
       "    <tr>\n",
       "      <th>379</th>\n",
       "      <td>ham</td>\n",
       "      <td>I taught that Ranjith sir called me. So only i...</td>\n",
       "      <td>[i, taught, that, ranjith, sir, called, me., s...</td>\n",
       "      <td>3.276566e-01</td>\n",
       "      <td>4.909528e-65</td>\n",
       "    </tr>\n",
       "    <tr>\n",
       "      <th>690</th>\n",
       "      <td>ham</td>\n",
       "      <td>Was the farm open?</td>\n",
       "      <td>[was, the, farm, open?]</td>\n",
       "      <td>9.235823e-01</td>\n",
       "      <td>2.939036e-09</td>\n",
       "    </tr>\n",
       "    <tr>\n",
       "      <th>3839</th>\n",
       "      <td>ham</td>\n",
       "      <td>HEY MATE! HOWS U HONEY?DID U AVE GOOD HOLIDAY?...</td>\n",
       "      <td>[hey, mate!, hows, u, honey?did, u, ave, good,...</td>\n",
       "      <td>3.997915e-01</td>\n",
       "      <td>3.458256e-27</td>\n",
       "    </tr>\n",
       "  </tbody>\n",
       "</table>\n",
       "<p>557 rows × 5 columns</p>\n",
       "</div>"
      ],
      "text/plain": [
       "      type                                               text  \\\n",
       "2877  spam  Hey Boys. Want hot XXX pics sent direct 2 ur p...   \n",
       "2915   ham    What time should I tell my friend to be around?   \n",
       "4741   ham              Ya very nice. . .be ready on thursday   \n",
       "514   spam  You are guaranteed the latest Nokia Phone, a 4...   \n",
       "1292   ham  Da my birthdate in certificate is in april but...   \n",
       "...    ...                                                ...   \n",
       "2399   ham                         Oh... Kay... On sat right?   \n",
       "4206   ham                 Lets use it next week, princess :)   \n",
       "379    ham  I taught that Ranjith sir called me. So only i...   \n",
       "690    ham                                 Was the farm open?   \n",
       "3839   ham  HEY MATE! HOWS U HONEY?DID U AVE GOOD HOLIDAY?...   \n",
       "\n",
       "                                                  clean           ham  \\\n",
       "2877  [hey, boys., want, hot, xxx, pics, sent, direc...  1.917566e-20   \n",
       "2915  [what, time, should, i, tell, my, friend, to, ...  8.018706e-01   \n",
       "4741     [ya, very, nice., ., .be, ready, on, thursday]  1.034931e+00   \n",
       "514   [you, are, guaranteed, the, latest, nokia, pho...  2.634663e-57   \n",
       "1292  [da, my, birthdate, in, certificate, is, in, a...  1.381174e-01   \n",
       "...                                                 ...           ...   \n",
       "2399                   [oh..., kay..., on, sat, right?]  9.982615e-01   \n",
       "4206         [lets, use, it, next, week,, princess, :)]  6.101299e-01   \n",
       "379   [i, taught, that, ranjith, sir, called, me., s...  3.276566e-01   \n",
       "690                             [was, the, farm, open?]  9.235823e-01   \n",
       "3839  [hey, mate!, hows, u, honey?did, u, ave, good,...  3.997915e-01   \n",
       "\n",
       "              spam  \n",
       "2877  2.428565e-30  \n",
       "2915  2.844581e-18  \n",
       "4741  1.777306e-23  \n",
       "514   2.656855e-11  \n",
       "1292  7.201132e-75  \n",
       "...            ...  \n",
       "2399  1.282663e-19  \n",
       "4206  1.978136e-17  \n",
       "379   4.909528e-65  \n",
       "690   2.939036e-09  \n",
       "3839  3.458256e-27  \n",
       "\n",
       "[557 rows x 5 columns]"
      ]
     },
     "execution_count": 24,
     "metadata": {},
     "output_type": "execute_result"
    }
   ],
   "source": [
    "test"
   ]
  },
  {
   "cell_type": "markdown",
   "metadata": {},
   "source": [
    "What do the columns of ham and spam mean? They are > 0, but not < 0.\n",
    "Its >1 because we have the 0.0001 assigned to undefined words."
   ]
  },
  {
   "cell_type": "code",
   "execution_count": 25,
   "metadata": {},
   "outputs": [],
   "source": [
    "test['winner'] = test.ham / test.spam\n",
    "test['winner'] = test.winner.apply(lambda x: 'ham' if x > 1 else 'spam')"
   ]
  },
  {
   "cell_type": "code",
   "execution_count": 26,
   "metadata": {},
   "outputs": [],
   "source": [
    "result = test.winner == test.type"
   ]
  },
  {
   "cell_type": "code",
   "execution_count": 27,
   "metadata": {},
   "outputs": [
    {
     "data": {
      "text/plain": [
       "0.9640933572710951"
      ]
     },
     "execution_count": 27,
     "metadata": {},
     "output_type": "execute_result"
    }
   ],
   "source": [
    "sum(result) / len(test)"
   ]
  },
  {
   "cell_type": "markdown",
   "metadata": {},
   "source": [
    "most common class baseline - ie 'ham' is 86% of the time, so if we just classed 'ham' then we'd get 86% accuracy. We are 1% more accurate.  We can try to remove stop words, stem the words, spelling correction, balancing by the 'type', etc.\n"
   ]
  },
  {
   "cell_type": "code",
   "execution_count": null,
   "metadata": {},
   "outputs": [],
   "source": []
  },
  {
   "cell_type": "code",
   "execution_count": null,
   "metadata": {},
   "outputs": [],
   "source": []
  }
 ],
 "metadata": {
  "kernelspec": {
   "display_name": "Python 3",
   "language": "python",
   "name": "python3"
  },
  "language_info": {
   "codemirror_mode": {
    "name": "ipython",
    "version": 3
   },
   "file_extension": ".py",
   "mimetype": "text/x-python",
   "name": "python",
   "nbconvert_exporter": "python",
   "pygments_lexer": "ipython3",
   "version": "3.9.1"
  }
 },
 "nbformat": 4,
 "nbformat_minor": 4
}
