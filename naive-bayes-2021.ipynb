{
 "cells": [
  {
   "cell_type": "code",
   "execution_count": 1,
   "metadata": {},
   "outputs": [],
   "source": [
    "import pandas as pd\n",
    "import numpy as np\n",
    "from collections import Counter as ctr"
   ]
  },
  {
   "cell_type": "code",
   "execution_count": 2,
   "metadata": {},
   "outputs": [
    {
     "name": "stderr",
     "output_type": "stream",
     "text": [
      "'ls' is not recognized as an internal or external command,\n",
      "operable program or batch file.\n"
     ]
    }
   ],
   "source": [
    "!ls"
   ]
  },
  {
   "cell_type": "code",
   "execution_count": 3,
   "metadata": {},
   "outputs": [
    {
     "data": {
      "text/html": [
       "<div>\n",
       "<style scoped>\n",
       "    .dataframe tbody tr th:only-of-type {\n",
       "        vertical-align: middle;\n",
       "    }\n",
       "\n",
       "    .dataframe tbody tr th {\n",
       "        vertical-align: top;\n",
       "    }\n",
       "\n",
       "    .dataframe thead th {\n",
       "        text-align: right;\n",
       "    }\n",
       "</style>\n",
       "<table border=\"1\" class=\"dataframe\">\n",
       "  <thead>\n",
       "    <tr style=\"text-align: right;\">\n",
       "      <th></th>\n",
       "      <th>type</th>\n",
       "      <th>text</th>\n",
       "      <th>c3</th>\n",
       "      <th>c4</th>\n",
       "      <th>c5</th>\n",
       "    </tr>\n",
       "  </thead>\n",
       "  <tbody>\n",
       "    <tr>\n",
       "      <th>0</th>\n",
       "      <td>ham</td>\n",
       "      <td>Go until jurong point, crazy.. Available only ...</td>\n",
       "      <td>NaN</td>\n",
       "      <td>NaN</td>\n",
       "      <td>NaN</td>\n",
       "    </tr>\n",
       "    <tr>\n",
       "      <th>1</th>\n",
       "      <td>ham</td>\n",
       "      <td>Ok lar... Joking wif u oni...</td>\n",
       "      <td>NaN</td>\n",
       "      <td>NaN</td>\n",
       "      <td>NaN</td>\n",
       "    </tr>\n",
       "    <tr>\n",
       "      <th>2</th>\n",
       "      <td>spam</td>\n",
       "      <td>Free entry in 2 a wkly comp to win FA Cup fina...</td>\n",
       "      <td>NaN</td>\n",
       "      <td>NaN</td>\n",
       "      <td>NaN</td>\n",
       "    </tr>\n",
       "    <tr>\n",
       "      <th>3</th>\n",
       "      <td>ham</td>\n",
       "      <td>U dun say so early hor... U c already then say...</td>\n",
       "      <td>NaN</td>\n",
       "      <td>NaN</td>\n",
       "      <td>NaN</td>\n",
       "    </tr>\n",
       "    <tr>\n",
       "      <th>4</th>\n",
       "      <td>ham</td>\n",
       "      <td>Nah I don't think he goes to usf, he lives aro...</td>\n",
       "      <td>NaN</td>\n",
       "      <td>NaN</td>\n",
       "      <td>NaN</td>\n",
       "    </tr>\n",
       "  </tbody>\n",
       "</table>\n",
       "</div>"
      ],
      "text/plain": [
       "   type                                               text   c3   c4   c5\n",
       "0   ham  Go until jurong point, crazy.. Available only ...  NaN  NaN  NaN\n",
       "1   ham                      Ok lar... Joking wif u oni...  NaN  NaN  NaN\n",
       "2  spam  Free entry in 2 a wkly comp to win FA Cup fina...  NaN  NaN  NaN\n",
       "3   ham  U dun say so early hor... U c already then say...  NaN  NaN  NaN\n",
       "4   ham  Nah I don't think he goes to usf, he lives aro...  NaN  NaN  NaN"
      ]
     },
     "execution_count": 3,
     "metadata": {},
     "output_type": "execute_result"
    }
   ],
   "source": [
    "data = pd.read_csv('spam.csv', \n",
    "                 skiprows=1, \n",
    "                 names = ['type','text','c3','c4','c5'], \n",
    "                 delimiter = ',',\n",
    "                 encoding = 'ISO-8859-1')\n",
    "data.head()\n",
    "## text is an entire email\n",
    "## type is \"spam\" (bad) & \"ham\" (good)\n",
    "# Shouldent we use a SVM?"
   ]
  },
  {
   "cell_type": "code",
   "execution_count": 4,
   "metadata": {},
   "outputs": [],
   "source": [
    "data['clean'] = data.text.apply(lambda x: x.lower().split()) \n",
    "## normalize it to lowercase and split on white space (to do tab put \"\\t\")"
   ]
  },
  {
   "cell_type": "code",
   "execution_count": 5,
   "metadata": {},
   "outputs": [],
   "source": [
    "data.drop(['c3', 'c4', 'c5'], axis = 1, inplace = True)\n",
    "## axis is 0 is row, 1 is column"
   ]
  },
  {
   "cell_type": "code",
   "execution_count": 6,
   "metadata": {},
   "outputs": [
    {
     "data": {
      "text/html": [
       "<div>\n",
       "<style scoped>\n",
       "    .dataframe tbody tr th:only-of-type {\n",
       "        vertical-align: middle;\n",
       "    }\n",
       "\n",
       "    .dataframe tbody tr th {\n",
       "        vertical-align: top;\n",
       "    }\n",
       "\n",
       "    .dataframe thead th {\n",
       "        text-align: right;\n",
       "    }\n",
       "</style>\n",
       "<table border=\"1\" class=\"dataframe\">\n",
       "  <thead>\n",
       "    <tr style=\"text-align: right;\">\n",
       "      <th></th>\n",
       "      <th>type</th>\n",
       "      <th>text</th>\n",
       "      <th>clean</th>\n",
       "    </tr>\n",
       "  </thead>\n",
       "  <tbody>\n",
       "    <tr>\n",
       "      <th>0</th>\n",
       "      <td>ham</td>\n",
       "      <td>Go until jurong point, crazy.. Available only ...</td>\n",
       "      <td>[go, until, jurong, point,, crazy.., available...</td>\n",
       "    </tr>\n",
       "    <tr>\n",
       "      <th>1</th>\n",
       "      <td>ham</td>\n",
       "      <td>Ok lar... Joking wif u oni...</td>\n",
       "      <td>[ok, lar..., joking, wif, u, oni...]</td>\n",
       "    </tr>\n",
       "    <tr>\n",
       "      <th>2</th>\n",
       "      <td>spam</td>\n",
       "      <td>Free entry in 2 a wkly comp to win FA Cup fina...</td>\n",
       "      <td>[free, entry, in, 2, a, wkly, comp, to, win, f...</td>\n",
       "    </tr>\n",
       "    <tr>\n",
       "      <th>3</th>\n",
       "      <td>ham</td>\n",
       "      <td>U dun say so early hor... U c already then say...</td>\n",
       "      <td>[u, dun, say, so, early, hor..., u, c, already...</td>\n",
       "    </tr>\n",
       "    <tr>\n",
       "      <th>4</th>\n",
       "      <td>ham</td>\n",
       "      <td>Nah I don't think he goes to usf, he lives aro...</td>\n",
       "      <td>[nah, i, don't, think, he, goes, to, usf,, he,...</td>\n",
       "    </tr>\n",
       "  </tbody>\n",
       "</table>\n",
       "</div>"
      ],
      "text/plain": [
       "   type                                               text  \\\n",
       "0   ham  Go until jurong point, crazy.. Available only ...   \n",
       "1   ham                      Ok lar... Joking wif u oni...   \n",
       "2  spam  Free entry in 2 a wkly comp to win FA Cup fina...   \n",
       "3   ham  U dun say so early hor... U c already then say...   \n",
       "4   ham  Nah I don't think he goes to usf, he lives aro...   \n",
       "\n",
       "                                               clean  \n",
       "0  [go, until, jurong, point,, crazy.., available...  \n",
       "1               [ok, lar..., joking, wif, u, oni...]  \n",
       "2  [free, entry, in, 2, a, wkly, comp, to, win, f...  \n",
       "3  [u, dun, say, so, early, hor..., u, c, already...  \n",
       "4  [nah, i, don't, think, he, goes, to, usf,, he,...  "
      ]
     },
     "execution_count": 6,
     "metadata": {},
     "output_type": "execute_result"
    }
   ],
   "source": [
    "data.head()"
   ]
  },
  {
   "cell_type": "code",
   "execution_count": 7,
   "metadata": {},
   "outputs": [
    {
     "data": {
      "text/html": [
       "<div>\n",
       "<style scoped>\n",
       "    .dataframe tbody tr th:only-of-type {\n",
       "        vertical-align: middle;\n",
       "    }\n",
       "\n",
       "    .dataframe tbody tr th {\n",
       "        vertical-align: top;\n",
       "    }\n",
       "\n",
       "    .dataframe thead th {\n",
       "        text-align: right;\n",
       "    }\n",
       "</style>\n",
       "<table border=\"1\" class=\"dataframe\">\n",
       "  <thead>\n",
       "    <tr style=\"text-align: right;\">\n",
       "      <th></th>\n",
       "      <th>text</th>\n",
       "      <th>clean</th>\n",
       "    </tr>\n",
       "    <tr>\n",
       "      <th>type</th>\n",
       "      <th></th>\n",
       "      <th></th>\n",
       "    </tr>\n",
       "  </thead>\n",
       "  <tbody>\n",
       "    <tr>\n",
       "      <th>ham</th>\n",
       "      <td>4825</td>\n",
       "      <td>4825</td>\n",
       "    </tr>\n",
       "    <tr>\n",
       "      <th>spam</th>\n",
       "      <td>747</td>\n",
       "      <td>747</td>\n",
       "    </tr>\n",
       "  </tbody>\n",
       "</table>\n",
       "</div>"
      ],
      "text/plain": [
       "      text  clean\n",
       "type             \n",
       "ham   4825   4825\n",
       "spam   747    747"
      ]
     },
     "execution_count": 7,
     "metadata": {},
     "output_type": "execute_result"
    }
   ],
   "source": [
    "data.groupby('type').count()"
   ]
  },
  {
   "cell_type": "code",
   "execution_count": 8,
   "metadata": {},
   "outputs": [
    {
     "name": "stdout",
     "output_type": "stream",
     "text": [
      " ham (good): 0.8659368269921034 \n",
      " spam (bad): 0.13406317300789664\n"
     ]
    }
   ],
   "source": [
    "type_ctr = ctr(data.type)\n",
    "print(\" ham (good):\", type_ctr['ham']/len(data),\"\\n\",\n",
    "      \"spam (bad):\", type_ctr['spam']/len(data)\n",
    ")\n",
    "## dont we need to balance the data?"
   ]
  },
  {
   "cell_type": "code",
   "execution_count": 9,
   "metadata": {},
   "outputs": [
    {
     "data": {
      "text/plain": [
       "(0.8659368269921034, 0.13406317300789664)"
      ]
     },
     "execution_count": 9,
     "metadata": {},
     "output_type": "execute_result"
    }
   ],
   "source": [
    "## take note how to print two things from the same cell...\n",
    "type_ctr['ham']/len(data), type_ctr['spam']/len(data)"
   ]
  },
  {
   "cell_type": "code",
   "execution_count": 10,
   "metadata": {},
   "outputs": [],
   "source": [
    "test = data.sample(frac = 0.1)\n",
    "# train data is mutually exclusive from the test\n",
    "train = data[~data.index.isin(test.index)]"
   ]
  },
  {
   "cell_type": "code",
   "execution_count": 11,
   "metadata": {},
   "outputs": [
    {
     "data": {
      "text/plain": [
       "(      type                                               text  \\\n",
       " 1580   ham  I shall book chez jules for half eight, if tha...   \n",
       " 4816   ham  Me too. Mark is taking forever to pick up my p...   \n",
       " 765   spam  UR awarded a City Break and could WIN a å£200 ...   \n",
       " 3442   ham  Your board is working fine. The issue of overh...   \n",
       " 418    ham  Alright, I'll head out in a few minutes, text ...   \n",
       " \n",
       "                                                   clean  \n",
       " 1580  [i, shall, book, chez, jules, for, half, eight...  \n",
       " 4816  [me, too., mark, is, taking, forever, to, pick...  \n",
       " 765   [ur, awarded, a, city, break, and, could, win,...  \n",
       " 3442  [your, board, is, working, fine., the, issue, ...  \n",
       " 418   [alright,, i'll, head, out, in, a, few, minute...  ,\n",
       " (557, 3),\n",
       "    type                                               text  \\\n",
       " 0   ham  Go until jurong point, crazy.. Available only ...   \n",
       " 1   ham                      Ok lar... Joking wif u oni...   \n",
       " 2  spam  Free entry in 2 a wkly comp to win FA Cup fina...   \n",
       " 3   ham  U dun say so early hor... U c already then say...   \n",
       " 4   ham  Nah I don't think he goes to usf, he lives aro...   \n",
       " \n",
       "                                                clean  \n",
       " 0  [go, until, jurong, point,, crazy.., available...  \n",
       " 1               [ok, lar..., joking, wif, u, oni...]  \n",
       " 2  [free, entry, in, 2, a, wkly, comp, to, win, f...  \n",
       " 3  [u, dun, say, so, early, hor..., u, c, already...  \n",
       " 4  [nah, i, don't, think, he, goes, to, usf,, he,...  ,\n",
       " (5015, 3))"
      ]
     },
     "execution_count": 11,
     "metadata": {},
     "output_type": "execute_result"
    }
   ],
   "source": [
    "test.head(),test.shape, train.head(), train.shape"
   ]
  },
  {
   "cell_type": "markdown",
   "metadata": {},
   "source": [
    "### Prior Probability"
   ]
  },
  {
   "cell_type": "code",
   "execution_count": 12,
   "metadata": {},
   "outputs": [],
   "source": [
    "ham_spam_ctr = ctr(train.type)\n",
    "\n",
    "def Pa(X=''): #probability of prior\n",
    "    return ham_spam_ctr[X] / len(train)"
   ]
  },
  {
   "cell_type": "code",
   "execution_count": 13,
   "metadata": {},
   "outputs": [
    {
     "data": {
      "text/plain": [
       "0.1333998005982054"
      ]
     },
     "execution_count": 13,
     "metadata": {},
     "output_type": "execute_result"
    }
   ],
   "source": [
    "Pa('spam')"
   ]
  },
  {
   "cell_type": "markdown",
   "metadata": {},
   "source": [
    "# Normalization"
   ]
  },
  {
   "cell_type": "code",
   "execution_count": 14,
   "metadata": {},
   "outputs": [],
   "source": [
    "words_ctr = ctr([word for row in train.clean for word in row])\n",
    "\n",
    "## P(B)\n",
    "def Pb(W=''):\n",
    "    if W not in words_ctr: return 10E-10 ## if a word is not in the corpus assign it a tiny value\n",
    "    return words_ctr[W] / sum(words_ctr.values())"
   ]
  },
  {
   "cell_type": "markdown",
   "metadata": {},
   "source": [
    "## Maximum likelihood P(B|A) "
   ]
  },
  {
   "cell_type": "code",
   "execution_count": 15,
   "metadata": {},
   "outputs": [],
   "source": [
    "words_ham_spam = {}\n",
    "\n",
    "for col_name in list(set(data.type)):\n",
    "    sub_df = train[train.type == col_name] ## masking the dataframe\n",
    "    words_ham_spam[col_name] = []\n",
    "    for row in sub_df.clean:\n",
    "        for word in row:\n",
    "            words_ham_spam[col_name].append(word) ## makes 1 long list of all the words and we can count them\n",
    "    words_ham_spam[col_name] = ctr(words_ham_spam[col_name])\n",
    "    \n",
    "def Pba(W='', X=''):\n",
    "    t = words_ham_spam[X]\n",
    "    if W not in t: return 10E-10\n",
    "    return t[W] / sum(t.values())"
   ]
  },
  {
   "cell_type": "code",
   "execution_count": 16,
   "metadata": {},
   "outputs": [
    {
     "data": {
      "text/plain": [
       "[('to', 603),\n",
       " ('a', 342),\n",
       " ('call', 311),\n",
       " ('your', 233),\n",
       " ('you', 224),\n",
       " ('the', 183),\n",
       " ('for', 181),\n",
       " ('or', 175),\n",
       " ('free', 166),\n",
       " ('2', 154)]"
      ]
     },
     "execution_count": 16,
     "metadata": {},
     "output_type": "execute_result"
    }
   ],
   "source": [
    "words_ham_spam['spam'].most_common(10)"
   ]
  },
  {
   "cell_type": "code",
   "execution_count": 17,
   "metadata": {},
   "outputs": [
    {
     "data": {
      "text/plain": [
       "[('i', 1947),\n",
       " ('you', 1501),\n",
       " ('to', 1383),\n",
       " ('the', 999),\n",
       " ('a', 941),\n",
       " ('u', 790),\n",
       " ('and', 756),\n",
       " ('in', 702),\n",
       " ('my', 669),\n",
       " ('is', 637)]"
      ]
     },
     "execution_count": 17,
     "metadata": {},
     "output_type": "execute_result"
    }
   ],
   "source": [
    "words_ham_spam['ham'].most_common(10)"
   ]
  },
  {
   "cell_type": "code",
   "execution_count": 18,
   "metadata": {},
   "outputs": [
    {
     "data": {
      "text/plain": [
       "0.01616949646342845"
      ]
     },
     "execution_count": 18,
     "metadata": {},
     "output_type": "execute_result"
    }
   ],
   "source": [
    "Pba(W='the', X='ham')"
   ]
  },
  {
   "cell_type": "code",
   "execution_count": 19,
   "metadata": {},
   "outputs": [],
   "source": [
    "def Pab(X='', W=''):\n",
    "    return Pba(W, X) * Pa(X) / Pb(W)"
   ]
  },
  {
   "cell_type": "code",
   "execution_count": 20,
   "metadata": {},
   "outputs": [
    {
     "data": {
      "text/plain": [
       "0.9217419913694499"
      ]
     },
     "execution_count": 20,
     "metadata": {},
     "output_type": "execute_result"
    }
   ],
   "source": [
    "Pab(X='ham', W='the')"
   ]
  },
  {
   "cell_type": "code",
   "execution_count": 21,
   "metadata": {},
   "outputs": [],
   "source": [
    "def Ps(T, X=''):\n",
    "    return np.prod([Pab(X=X,W=word) for word in T])"
   ]
  },
  {
   "cell_type": "code",
   "execution_count": 22,
   "metadata": {},
   "outputs": [
    {
     "data": {
      "text/plain": [
       "(0.8183465817290482, 0.0005280595565358195)"
      ]
     },
     "execution_count": 22,
     "metadata": {},
     "output_type": "execute_result"
    }
   ],
   "source": [
    "Ps(T = ['the', 'day', 'ahoy'], X = 'ham'), Ps(T = ['the', 'day', 'ahoy'], X = 'spam')"
   ]
  },
  {
   "cell_type": "markdown",
   "metadata": {},
   "source": [
    "# Evaluate"
   ]
  },
  {
   "cell_type": "code",
   "execution_count": 49,
   "metadata": {},
   "outputs": [],
   "source": [
    "test['ham'] = round(test.clean.apply(lambda x: Ps(x, 'ham')),5)\n",
    "test['spam'] = round(test.clean.apply(lambda x: Ps(x, 'spam')), 5)"
   ]
  },
  {
   "cell_type": "code",
   "execution_count": 50,
   "metadata": {},
   "outputs": [
    {
     "data": {
      "text/html": [
       "<div>\n",
       "<style scoped>\n",
       "    .dataframe tbody tr th:only-of-type {\n",
       "        vertical-align: middle;\n",
       "    }\n",
       "\n",
       "    .dataframe tbody tr th {\n",
       "        vertical-align: top;\n",
       "    }\n",
       "\n",
       "    .dataframe thead th {\n",
       "        text-align: right;\n",
       "    }\n",
       "</style>\n",
       "<table border=\"1\" class=\"dataframe\">\n",
       "  <thead>\n",
       "    <tr style=\"text-align: right;\">\n",
       "      <th></th>\n",
       "      <th>type</th>\n",
       "      <th>text</th>\n",
       "      <th>clean</th>\n",
       "      <th>ham</th>\n",
       "      <th>spam</th>\n",
       "      <th>winner</th>\n",
       "    </tr>\n",
       "  </thead>\n",
       "  <tbody>\n",
       "    <tr>\n",
       "      <th>1580</th>\n",
       "      <td>ham</td>\n",
       "      <td>I shall book chez jules for half eight, if tha...</td>\n",
       "      <td>[i, shall, book, chez, jules, for, half, eight...</td>\n",
       "      <td>0.36486</td>\n",
       "      <td>0.0</td>\n",
       "      <td>ham</td>\n",
       "    </tr>\n",
       "    <tr>\n",
       "      <th>4816</th>\n",
       "      <td>ham</td>\n",
       "      <td>Me too. Mark is taking forever to pick up my p...</td>\n",
       "      <td>[me, too., mark, is, taking, forever, to, pick...</td>\n",
       "      <td>0.91525</td>\n",
       "      <td>0.0</td>\n",
       "      <td>ham</td>\n",
       "    </tr>\n",
       "    <tr>\n",
       "      <th>765</th>\n",
       "      <td>spam</td>\n",
       "      <td>UR awarded a City Break and could WIN a å£200 ...</td>\n",
       "      <td>[ur, awarded, a, city, break, and, could, win,...</td>\n",
       "      <td>0.00000</td>\n",
       "      <td>0.0</td>\n",
       "      <td>spam</td>\n",
       "    </tr>\n",
       "    <tr>\n",
       "      <th>3442</th>\n",
       "      <td>ham</td>\n",
       "      <td>Your board is working fine. The issue of overh...</td>\n",
       "      <td>[your, board, is, working, fine., the, issue, ...</td>\n",
       "      <td>0.29939</td>\n",
       "      <td>0.0</td>\n",
       "      <td>ham</td>\n",
       "    </tr>\n",
       "    <tr>\n",
       "      <th>418</th>\n",
       "      <td>ham</td>\n",
       "      <td>Alright, I'll head out in a few minutes, text ...</td>\n",
       "      <td>[alright,, i'll, head, out, in, a, few, minute...</td>\n",
       "      <td>0.34303</td>\n",
       "      <td>0.0</td>\n",
       "      <td>ham</td>\n",
       "    </tr>\n",
       "    <tr>\n",
       "      <th>...</th>\n",
       "      <td>...</td>\n",
       "      <td>...</td>\n",
       "      <td>...</td>\n",
       "      <td>...</td>\n",
       "      <td>...</td>\n",
       "      <td>...</td>\n",
       "    </tr>\n",
       "    <tr>\n",
       "      <th>183</th>\n",
       "      <td>ham</td>\n",
       "      <td>He will, you guys close?</td>\n",
       "      <td>[he, will,, you, guys, close?]</td>\n",
       "      <td>0.78710</td>\n",
       "      <td>0.0</td>\n",
       "      <td>ham</td>\n",
       "    </tr>\n",
       "    <tr>\n",
       "      <th>2081</th>\n",
       "      <td>ham</td>\n",
       "      <td>I'm aight. Wat's happening on your side.</td>\n",
       "      <td>[i'm, aight., wat's, happening, on, your, side.]</td>\n",
       "      <td>0.64026</td>\n",
       "      <td>0.0</td>\n",
       "      <td>ham</td>\n",
       "    </tr>\n",
       "    <tr>\n",
       "      <th>1702</th>\n",
       "      <td>ham</td>\n",
       "      <td>I have lost 10 kilos as of today!</td>\n",
       "      <td>[i, have, lost, 10, kilos, as, of, today!]</td>\n",
       "      <td>0.04400</td>\n",
       "      <td>0.0</td>\n",
       "      <td>ham</td>\n",
       "    </tr>\n",
       "    <tr>\n",
       "      <th>5458</th>\n",
       "      <td>ham</td>\n",
       "      <td>Sorry, I'll call later</td>\n",
       "      <td>[sorry,, i'll, call, later]</td>\n",
       "      <td>0.51855</td>\n",
       "      <td>0.0</td>\n",
       "      <td>ham</td>\n",
       "    </tr>\n",
       "    <tr>\n",
       "      <th>4605</th>\n",
       "      <td>ham</td>\n",
       "      <td>Oh... Haha... Den we shld had went today too.....</td>\n",
       "      <td>[oh..., haha..., den, we, shld, had, went, tod...</td>\n",
       "      <td>2.43035</td>\n",
       "      <td>0.0</td>\n",
       "      <td>ham</td>\n",
       "    </tr>\n",
       "  </tbody>\n",
       "</table>\n",
       "<p>557 rows × 6 columns</p>\n",
       "</div>"
      ],
      "text/plain": [
       "      type                                               text  \\\n",
       "1580   ham  I shall book chez jules for half eight, if tha...   \n",
       "4816   ham  Me too. Mark is taking forever to pick up my p...   \n",
       "765   spam  UR awarded a City Break and could WIN a å£200 ...   \n",
       "3442   ham  Your board is working fine. The issue of overh...   \n",
       "418    ham  Alright, I'll head out in a few minutes, text ...   \n",
       "...    ...                                                ...   \n",
       "183    ham                           He will, you guys close?   \n",
       "2081   ham           I'm aight. Wat's happening on your side.   \n",
       "1702   ham                  I have lost 10 kilos as of today!   \n",
       "5458   ham                             Sorry, I'll call later   \n",
       "4605   ham  Oh... Haha... Den we shld had went today too.....   \n",
       "\n",
       "                                                  clean      ham  spam winner  \n",
       "1580  [i, shall, book, chez, jules, for, half, eight...  0.36486   0.0    ham  \n",
       "4816  [me, too., mark, is, taking, forever, to, pick...  0.91525   0.0    ham  \n",
       "765   [ur, awarded, a, city, break, and, could, win,...  0.00000   0.0   spam  \n",
       "3442  [your, board, is, working, fine., the, issue, ...  0.29939   0.0    ham  \n",
       "418   [alright,, i'll, head, out, in, a, few, minute...  0.34303   0.0    ham  \n",
       "...                                                 ...      ...   ...    ...  \n",
       "183                      [he, will,, you, guys, close?]  0.78710   0.0    ham  \n",
       "2081   [i'm, aight., wat's, happening, on, your, side.]  0.64026   0.0    ham  \n",
       "1702         [i, have, lost, 10, kilos, as, of, today!]  0.04400   0.0    ham  \n",
       "5458                        [sorry,, i'll, call, later]  0.51855   0.0    ham  \n",
       "4605  [oh..., haha..., den, we, shld, had, went, tod...  2.43035   0.0    ham  \n",
       "\n",
       "[557 rows x 6 columns]"
      ]
     },
     "execution_count": 50,
     "metadata": {},
     "output_type": "execute_result"
    }
   ],
   "source": [
    "test"
   ]
  },
  {
   "cell_type": "markdown",
   "metadata": {},
   "source": [
    "What do the columns of ham and spam mean? They are > 0, but not < 0.\n",
    "Its >1 because we have the 0.0001 assigned to undefined words."
   ]
  },
  {
   "cell_type": "code",
   "execution_count": 51,
   "metadata": {},
   "outputs": [],
   "source": [
    "test['winner'] = test.ham / test.spam\n",
    "test['winner'] = test.winner.apply(lambda x: 'ham' if x > 1 else 'spam')"
   ]
  },
  {
   "cell_type": "code",
   "execution_count": 52,
   "metadata": {},
   "outputs": [
    {
     "data": {
      "text/html": [
       "<div>\n",
       "<style scoped>\n",
       "    .dataframe tbody tr th:only-of-type {\n",
       "        vertical-align: middle;\n",
       "    }\n",
       "\n",
       "    .dataframe tbody tr th {\n",
       "        vertical-align: top;\n",
       "    }\n",
       "\n",
       "    .dataframe thead th {\n",
       "        text-align: right;\n",
       "    }\n",
       "</style>\n",
       "<table border=\"1\" class=\"dataframe\">\n",
       "  <thead>\n",
       "    <tr style=\"text-align: right;\">\n",
       "      <th></th>\n",
       "      <th>type</th>\n",
       "      <th>text</th>\n",
       "      <th>clean</th>\n",
       "      <th>ham</th>\n",
       "      <th>spam</th>\n",
       "      <th>winner</th>\n",
       "    </tr>\n",
       "  </thead>\n",
       "  <tbody>\n",
       "    <tr>\n",
       "      <th>1580</th>\n",
       "      <td>ham</td>\n",
       "      <td>I shall book chez jules for half eight, if tha...</td>\n",
       "      <td>[i, shall, book, chez, jules, for, half, eight...</td>\n",
       "      <td>0.36486</td>\n",
       "      <td>0.0</td>\n",
       "      <td>ham</td>\n",
       "    </tr>\n",
       "    <tr>\n",
       "      <th>4816</th>\n",
       "      <td>ham</td>\n",
       "      <td>Me too. Mark is taking forever to pick up my p...</td>\n",
       "      <td>[me, too., mark, is, taking, forever, to, pick...</td>\n",
       "      <td>0.91525</td>\n",
       "      <td>0.0</td>\n",
       "      <td>ham</td>\n",
       "    </tr>\n",
       "    <tr>\n",
       "      <th>765</th>\n",
       "      <td>spam</td>\n",
       "      <td>UR awarded a City Break and could WIN a å£200 ...</td>\n",
       "      <td>[ur, awarded, a, city, break, and, could, win,...</td>\n",
       "      <td>0.00000</td>\n",
       "      <td>0.0</td>\n",
       "      <td>spam</td>\n",
       "    </tr>\n",
       "    <tr>\n",
       "      <th>3442</th>\n",
       "      <td>ham</td>\n",
       "      <td>Your board is working fine. The issue of overh...</td>\n",
       "      <td>[your, board, is, working, fine., the, issue, ...</td>\n",
       "      <td>0.29939</td>\n",
       "      <td>0.0</td>\n",
       "      <td>ham</td>\n",
       "    </tr>\n",
       "    <tr>\n",
       "      <th>418</th>\n",
       "      <td>ham</td>\n",
       "      <td>Alright, I'll head out in a few minutes, text ...</td>\n",
       "      <td>[alright,, i'll, head, out, in, a, few, minute...</td>\n",
       "      <td>0.34303</td>\n",
       "      <td>0.0</td>\n",
       "      <td>ham</td>\n",
       "    </tr>\n",
       "  </tbody>\n",
       "</table>\n",
       "</div>"
      ],
      "text/plain": [
       "      type                                               text  \\\n",
       "1580   ham  I shall book chez jules for half eight, if tha...   \n",
       "4816   ham  Me too. Mark is taking forever to pick up my p...   \n",
       "765   spam  UR awarded a City Break and could WIN a å£200 ...   \n",
       "3442   ham  Your board is working fine. The issue of overh...   \n",
       "418    ham  Alright, I'll head out in a few minutes, text ...   \n",
       "\n",
       "                                                  clean      ham  spam winner  \n",
       "1580  [i, shall, book, chez, jules, for, half, eight...  0.36486   0.0    ham  \n",
       "4816  [me, too., mark, is, taking, forever, to, pick...  0.91525   0.0    ham  \n",
       "765   [ur, awarded, a, city, break, and, could, win,...  0.00000   0.0   spam  \n",
       "3442  [your, board, is, working, fine., the, issue, ...  0.29939   0.0    ham  \n",
       "418   [alright,, i'll, head, out, in, a, few, minute...  0.34303   0.0    ham  "
      ]
     },
     "execution_count": 52,
     "metadata": {},
     "output_type": "execute_result"
    }
   ],
   "source": [
    "test.head()"
   ]
  },
  {
   "cell_type": "code",
   "execution_count": 53,
   "metadata": {},
   "outputs": [],
   "source": [
    "result = test.winner == test.type"
   ]
  },
  {
   "cell_type": "code",
   "execution_count": 54,
   "metadata": {},
   "outputs": [
    {
     "data": {
      "text/plain": [
       "0.9676840215439856"
      ]
     },
     "execution_count": 54,
     "metadata": {},
     "output_type": "execute_result"
    }
   ],
   "source": [
    "sum(result) / len(test)"
   ]
  },
  {
   "cell_type": "markdown",
   "metadata": {},
   "source": [
    "most common class baseline - ie 'ham' is 86% of the time, so if we just classed 'ham' then we'd get 86% accuracy. We are 1% more accurate.  We can try to remove stop words, stem the words, spelling correction, balancing by the 'type', etc.\n"
   ]
  },
  {
   "cell_type": "code",
   "execution_count": 55,
   "metadata": {},
   "outputs": [
    {
     "data": {
      "text/plain": [
       "\"I shall book chez jules for half eight, if that's ok with you?\""
      ]
     },
     "execution_count": 55,
     "metadata": {},
     "output_type": "execute_result"
    }
   ],
   "source": [
    "test.text[1580]"
   ]
  },
  {
   "cell_type": "code",
   "execution_count": 56,
   "metadata": {},
   "outputs": [
    {
     "data": {
      "text/plain": [
       "['i',\n",
       " 'shall',\n",
       " 'book',\n",
       " 'chez',\n",
       " 'jules',\n",
       " 'for',\n",
       " 'half',\n",
       " 'eight,',\n",
       " 'if',\n",
       " \"that's\",\n",
       " 'ok',\n",
       " 'with',\n",
       " 'you?']"
      ]
     },
     "execution_count": 56,
     "metadata": {},
     "output_type": "execute_result"
    }
   ],
   "source": [
    "test.clean[1580]"
   ]
  },
  {
   "cell_type": "markdown",
   "metadata": {},
   "source": [
    "P(B|A) = P(B|A)*P(A) / P(B)"
   ]
  },
  {
   "cell_type": "code",
   "execution_count": 57,
   "metadata": {},
   "outputs": [
    {
     "data": {
      "text/plain": [
       "0.3648593520785536"
      ]
     },
     "execution_count": 57,
     "metadata": {},
     "output_type": "execute_result"
    }
   ],
   "source": [
    "# \"I shall book chez jules for half eight, if that's ok with you?\"\n",
    "(Pba(W = 'i', X = 'ham') * Pa(X = 'ham') / Pb(W = 'i')) * (Pba(W = 'shall', X = 'ham') * Pa(X = 'ham') / Pb(W = 'shall')) *(Pba(W = 'book', X = 'ham') * Pa(X = 'ham') / Pb(W = 'book')) *(Pba(W = 'chez', X = 'ham') * Pa(X = 'ham') / Pb(W = 'chez')) *(Pba(W = 'jules', X = 'ham') * Pa(X = 'ham') / Pb(W = 'jules')) *(Pba(W = 'for', X = 'ham') * Pa(X = 'ham') / Pb(W = 'for')) *(Pba(W = 'half', X = 'ham') * Pa(X = 'ham') / Pb(W = 'half')) *(Pba(W = 'eight,', X = 'ham') * Pa(X = 'ham') / Pb(W = 'eight,')) *(Pba(W = 'if', X = 'ham') * Pa(X = 'ham') / Pb(W = 'if')) *(Pba(W = \"that's\", X = 'ham') * Pa(X = 'ham') / Pb(W = \"that's\")) *(Pba(W = 'ok', X = 'ham') * Pa(X = 'ham') / Pb(W = 'ok')) *(Pba(W = 'with', X = 'ham') * Pa(X = 'ham') / Pb(W = 'with')) *(Pba(W = 'you?', X = 'ham') * Pa(X = 'ham') / Pb(W = 'you?')) \n"
   ]
  },
  {
   "cell_type": "code",
   "execution_count": 58,
   "metadata": {},
   "outputs": [
    {
     "data": {
      "text/plain": [
       "1.0718717803144129"
      ]
     },
     "execution_count": 58,
     "metadata": {},
     "output_type": "execute_result"
    }
   ],
   "source": [
    "Pab(X='ham', W='i') ## this is greater than 1 due to the correction provided by non-defined words"
   ]
  },
  {
   "cell_type": "code",
   "execution_count": 59,
   "metadata": {},
   "outputs": [
    {
     "data": {
      "text/plain": [
       "0.3648593520785536"
      ]
     },
     "execution_count": 59,
     "metadata": {},
     "output_type": "execute_result"
    }
   ],
   "source": [
    "Ps(T = ['i',\n",
    " 'shall',\n",
    " 'book',\n",
    " 'chez',\n",
    " 'jules',\n",
    " 'for',\n",
    " 'half',\n",
    " 'eight,',\n",
    " 'if',\n",
    " \"that's\",\n",
    " 'ok',\n",
    " 'with',\n",
    " 'you?'], X = 'ham')"
   ]
  }
 ],
 "metadata": {
  "kernelspec": {
   "display_name": "Python 3",
   "language": "python",
   "name": "python3"
  },
  "language_info": {
   "codemirror_mode": {
    "name": "ipython",
    "version": 3
   },
   "file_extension": ".py",
   "mimetype": "text/x-python",
   "name": "python",
   "nbconvert_exporter": "python",
   "pygments_lexer": "ipython3",
   "version": "3.8.7"
  }
 },
 "nbformat": 4,
 "nbformat_minor": 4
}
